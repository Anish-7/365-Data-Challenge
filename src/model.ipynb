{
 "cells": [
  {
   "attachments": {},
   "cell_type": "markdown",
   "metadata": {},
   "source": [
    "    logistic regression"
   ]
  },
  {
   "cell_type": "code",
   "execution_count": 1,
   "metadata": {},
   "outputs": [
    {
     "name": "stderr",
     "output_type": "stream",
     "text": [
      "/home/anish/Documents/code/aios/lib/python3.10/site-packages/sklearn/utils/validation.py:1111: DataConversionWarning: A column-vector y was passed when a 1d array was expected. Please change the shape of y to (n_samples, ), for example using ravel().\n",
      "  y = column_or_1d(y, warn=True)\n"
     ]
    },
    {
     "name": "stdout",
     "output_type": "stream",
     "text": [
      "[[8261 1635]\n",
      " [1445 8516]]\n",
      "0.8468575974542562\n",
      "[[0.02009976 1.87300915 2.04311991 1.356507  ]]\n"
     ]
    }
   ],
   "source": [
    "from sklearn.linear_model import LogisticRegression\n",
    "from sklearn.model_selection import train_test_split\n",
    "from sklearn.metrics import confusion_matrix , f1_score , accuracy_score\n",
    "import  imblearn \n",
    "import pandas as pd\n",
    "\n",
    "path ='/home/anish/plan/365-Data-Challenge/retrived_data/data.csv'\n",
    "data = pd.read_csv(path)\n",
    "\n",
    "features=['avg_time','taken_quiz','exam_quiz','hub_quiz']\n",
    "target =['purchased']\n",
    "\n",
    "sm=imblearn.over_sampling.SMOTE(random_state=42)\n",
    "xres,yres = sm.fit_resample(data[features],data[target])\n",
    "\n",
    "X_train, X_test, y_train, y_test = train_test_split(xres,yres, test_size=0.3, random_state=42)\n",
    "\n",
    "logreg = LogisticRegression()\n",
    "logreg.fit(X_train,y_train)\n",
    "\n",
    "yhat = logreg.predict(X_test)\n",
    "\n",
    "print(confusion_matrix(y_test,yhat))\n",
    "print(f1_score(y_test ,yhat))\n",
    "print(logreg.coef_)"
   ]
  },
  {
   "cell_type": "code",
   "execution_count": 10,
   "metadata": {},
   "outputs": [],
   "source": [
    "import pickle\n",
    "\n",
    "pickle.dump(logreg,open(\"models/logistic.pkl\",\"wb\"))"
   ]
  }
 ],
 "metadata": {
  "kernelspec": {
   "display_name": "aios",
   "language": "python",
   "name": "python3"
  },
  "language_info": {
   "codemirror_mode": {
    "name": "ipython",
    "version": 3
   },
   "file_extension": ".py",
   "mimetype": "text/x-python",
   "name": "python",
   "nbconvert_exporter": "python",
   "pygments_lexer": "ipython3",
   "version": "3.10.6 (main, Nov 14 2022, 16:10:14) [GCC 11.3.0]"
  },
  "orig_nbformat": 4,
  "vscode": {
   "interpreter": {
    "hash": "5aabff0614aeac4c261834ca404c2b3d0695a861627c4de874b595b643ccd977"
   }
  }
 },
 "nbformat": 4,
 "nbformat_minor": 2
}
